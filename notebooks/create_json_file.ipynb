{
 "cells": [
  {
   "cell_type": "markdown",
   "id": "9f3980c6-ef72-467b-b0d6-e304766fc811",
   "metadata": {},
   "source": [
    "### This file is to create json file from [crello dataset](https://github.com/CyberAgentAILab/canvas-vae/blob/main/docs/crello-dataset.md).\n",
    "- We use the crello-dataset-v1 in this work.\n",
    "- We offer a json creator and a json parser demos below."
   ]
  },
  {
   "cell_type": "code",
   "execution_count": 7,
   "id": "d3df10b5-8331-4786-8525-4f68afdc241f",
   "metadata": {},
   "outputs": [],
   "source": [
    "import tensorflow as tf\n",
    "from typing import Any, Dict\n",
    "from PIL import Image\n",
    "import io\n",
    "import os\n",
    "import numpy as np\n",
    "import matplotlib.pyplot as plt\n",
    "from ipywidgets import Image as ipyImage\n",
    "from ipycanvas import Canvas\n",
    "import time\n",
    "import json\n",
    "from base64 import b64encode, b64decode\n",
    "\n",
    "JSON_FILE_PATH = '../data/model_test_input/crello_samples'"
   ]
  },
  {
   "cell_type": "code",
   "execution_count": 3,
   "id": "84a3daa7-0214-4af9-9c6d-89a265099f0d",
   "metadata": {},
   "outputs": [
    {
     "name": "stderr",
     "output_type": "stream",
     "text": [
      "2022-09-13 16:34:10.345680: I tensorflow/core/platform/cpu_feature_guard.cc:193] This TensorFlow binary is optimized with oneAPI Deep Neural Network Library (oneDNN) to use the following CPU instructions in performance-critical operations:  AVX2 FMA\n",
      "To enable them in other operations, rebuild TensorFlow with the appropriate compiler flags.\n"
     ]
    }
   ],
   "source": [
    "dataset = tf.data.Dataset.list_files('../data/crello-dataset-v1/test-*.tfrecord')\n",
    "dataset = tf.data.TFRecordDataset(dataset)"
   ]
  },
  {
   "cell_type": "code",
   "execution_count": 4,
   "id": "ed05b2ad-aae9-49db-a31f-146cdacaa6ee",
   "metadata": {},
   "outputs": [],
   "source": [
    "def parse(serialized: bytes) -> Dict[str, Any]:\n",
    "    \"\"\"Explicitly parse specified fields.\"\"\"\n",
    "    context, sequence, _ = tf.io.parse_sequence_example(\n",
    "        serialized,\n",
    "        context_features={\n",
    "            'id': tf.io.FixedLenFeature((), tf.string),\n",
    "            'group': tf.io.FixedLenFeature((), tf.string),\n",
    "            'format': tf.io.FixedLenFeature((), tf.string),\n",
    "            'category': tf.io.FixedLenFeature((), tf.string),\n",
    "            'canvas_height': tf.io.FixedLenFeature((), tf.int64),\n",
    "            'canvas_width': tf.io.FixedLenFeature((), tf.int64),\n",
    "            'length': tf.io.FixedLenFeature((), tf.int64),\n",
    "        },\n",
    "        sequence_features={\n",
    "            'type': tf.io.FixedLenSequenceFeature((), tf.string),\n",
    "            'left': tf.io.FixedLenSequenceFeature((), tf.float32),\n",
    "            'top': tf.io.FixedLenSequenceFeature((), tf.float32),\n",
    "            'width': tf.io.FixedLenSequenceFeature((), tf.float32),\n",
    "            'height': tf.io.FixedLenSequenceFeature((), tf.float32),\n",
    "            'color': tf.io.FixedLenSequenceFeature((3,), tf.int64),\n",
    "            'opacity': tf.io.FixedLenSequenceFeature((), tf.float32),\n",
    "            'image_bytes': tf.io.FixedLenSequenceFeature((), tf.string),\n",
    "        })\n",
    "    return {**context, **sequence}"
   ]
  },
  {
   "cell_type": "markdown",
   "id": "ed28c71f-2404-4b41-b06b-a3b1ea451047",
   "metadata": {
    "tags": []
   },
   "source": [
    "#### Json Creator"
   ]
  },
  {
   "cell_type": "code",
   "execution_count": 8,
   "id": "6fdfc4a4-9813-4987-b807-875723c18cd1",
   "metadata": {},
   "outputs": [],
   "source": [
    "dataset_parse = dataset.map(parse)\n",
    "index = 0\n",
    "sampleID = 1\n",
    "for example in dataset_parse.as_numpy_iterator():\n",
    "    index += 1\n",
    "    if index == sampleID:\n",
    "        elementTypes = [i.decode(\"utf-8\") for i in example['type']]\n",
    "        canvas = {\n",
    "            'id': example['id'].decode(\"utf-8\"),\n",
    "            'group': example['group'].decode(\"utf-8\"),\n",
    "            'format': example['format'].decode(\"utf-8\"),\n",
    "            'category': example['category'].decode(\"utf-8\"),\n",
    "            'canvas_width': int(example['canvas_width']),\n",
    "            'canvas_height': int(example['canvas_height']),\n",
    "            'length': int(example['length']),\n",
    "            'types': elementTypes,\n",
    "        }\n",
    "        for i in range(len(example['type'])):\n",
    "            element = {\n",
    "                'type': example['type'][i].decode(\"utf-8\"),\n",
    "                'left': float(example['left'][i]),\n",
    "                'top': float(example['top'][i]),\n",
    "                'width': float(example['width'][i]),\n",
    "                'height': float(example['height'][i]),\n",
    "                'color': example['color'][i].tolist(),\n",
    "                'opacity': float(example['opacity'][i]),\n",
    "                'image_bytes': b64encode(example['image_bytes'][i]).decode(\"utf-8\"),\n",
    "                'depth': i,\n",
    "            }\n",
    "            canvas[f'element_{i}'] = element\n",
    "        # print(canvas) \n",
    "        with open(os.path.join(JSON_FILE_PATH, f'json_sample_{sampleID}.json'), 'w') as outfile:\n",
    "            json.dump(canvas, outfile)"
   ]
  },
  {
   "cell_type": "markdown",
   "id": "6796cb83-0b20-4f74-bc69-a26d3fb62ad8",
   "metadata": {
    "tags": []
   },
   "source": [
    "#### Json parser"
   ]
  },
  {
   "cell_type": "code",
   "execution_count": 9,
   "id": "64f93b48-f902-41a5-8ed4-ee677713398e",
   "metadata": {},
   "outputs": [
    {
     "data": {
      "application/vnd.jupyter.widget-view+json": {
       "model_id": "8428d260531d4600922e9a7568d23582",
       "version_major": 2,
       "version_minor": 0
      },
      "text/plain": [
       "Canvas(height=298, sync_image_data=True, width=419)"
      ]
     },
     "execution_count": 9,
     "metadata": {},
     "output_type": "execute_result"
    }
   ],
   "source": [
    "# sampleID = 1\n",
    "with open(os.path.join(JSON_FILE_PATH, f'json_sample_{sampleID}.json')) as json_file:\n",
    "    data = json.load(json_file)\n",
    "    canvas_width = data['canvas_width']\n",
    "    canvas_height = data['canvas_height']\n",
    "    canvas_image = Canvas(width=canvas_width, height=canvas_height, sync_image_data=True)\n",
    "\n",
    "    for i in range(data['length']):\n",
    "    # for i in range(6, 7):\n",
    "        x = data[f'element_{i}']['left']*canvas_width\n",
    "        y = data[f'element_{i}']['top']*canvas_height\n",
    "        width = data[f'element_{i}']['width']*canvas_width\n",
    "        height = data[f'element_{i}']['height']*canvas_height\n",
    "        if data[f'element_{i}']['type'] != 'textElement':\n",
    "            image = ipyImage.from_file(io.BytesIO(b64decode(data[f'element_{i}']['image_bytes'])))\n",
    "            canvas_image.draw_image(image, x, y, width, height)\n",
    "            time.sleep(1)\n",
    "        else:\n",
    "            # print(i)\n",
    "            canvas_image.font = f'{height}px sans-serif'\n",
    "            color_rgb = data[f'element_{i}']['color']\n",
    "            color_hex = '#%02x%02x%02x' % (color_rgb[0], color_rgb[1], color_rgb[2])\n",
    "            canvas_image.stroke_style = color_hex\n",
    "            canvas_image.fill_style = color_hex\n",
    "            canvas_image.fill_text('TEXT', x, y+height, max_width=width)\n",
    "            time.sleep(1) # sleep more time when text can not be fully stored\n",
    "            # canvas_image.stroke_rect(x, y, width, height)\n",
    "canvas_image"
   ]
  },
  {
   "cell_type": "code",
   "execution_count": null,
   "id": "456812ba-52f8-4ce7-8f36-47ea90ce4428",
   "metadata": {},
   "outputs": [],
   "source": []
  }
 ],
 "metadata": {
  "kernelspec": {
   "display_name": "Python 3 (ipykernel)",
   "language": "python",
   "name": "python3"
  },
  "language_info": {
   "codemirror_mode": {
    "name": "ipython",
    "version": 3
   },
   "file_extension": ".py",
   "mimetype": "text/x-python",
   "name": "python",
   "nbconvert_exporter": "python",
   "pygments_lexer": "ipython3",
   "version": "3.8.5"
  }
 },
 "nbformat": 4,
 "nbformat_minor": 5
}
